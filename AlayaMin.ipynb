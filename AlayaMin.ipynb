{
 "cells": [
  {
   "cell_type": "code",
   "execution_count": 65,
   "metadata": {},
   "outputs": [],
   "source": [
    "import numpy as np\n",
    "import matplotlib.pyplot as plt\n",
    "import pandas as pd\n",
    "import dask.dataframe as dd\n",
    "from datetime import datetime\n",
    "import pytz\n",
    "import seaborn as sns\n",
    "from matplotlib.colors import LogNorm\n",
    "import gc\n",
    "#import awswrangler as wr\n",
    "from sklearn.model_selection import train_test_split\n",
    "import lightgbm as lgb\n",
    "from sklearn.metrics import roc_auc_score\n",
    "from sklearn.preprocessing import StandardScaler\n",
    "from sklearn.metrics import accuracy_score\n",
    "from sklearn.metrics import mean_squared_error,roc_auc_score,precision_score\n",
    "from sklearn.model_selection import StratifiedKFold\n",
    "from sklearn import datasets, linear_model\n",
    "from sklearn.metrics import r2_score"
   ]
  },
  {
   "cell_type": "code",
   "execution_count": 66,
   "metadata": {},
   "outputs": [
    {
     "data": {
      "text/plain": [
       "'C:\\\\Users\\\\paulo\\\\OneDrive\\\\Documentos\\\\Alaya'"
      ]
     },
     "execution_count": 66,
     "metadata": {},
     "output_type": "execute_result"
    }
   ],
   "source": [
    "import os\n",
    "os.chdir(\"C:\\\\Users\\\\paulo\\\\OneDrive\\\\Documentos\\\\Alaya\")\n",
    "os.getcwd()"
   ]
  },
  {
   "cell_type": "code",
   "execution_count": 67,
   "metadata": {},
   "outputs": [],
   "source": [
    "data_tot = pd.read_csv('MiningProcess_Flotation_Plant_Database1.csv', sep=';', decimal = '.')"
   ]
  },
  {
   "cell_type": "code",
   "execution_count": 68,
   "metadata": {},
   "outputs": [
    {
     "name": "stdout",
     "output_type": "stream",
     "text": [
      "date                             object\n",
      "% Iron Feed                     float64\n",
      "% Silica Feed                   float64\n",
      "Starch Flow                     float64\n",
      "Amina Flow                      float64\n",
      "Ore Pulp Flow                   float64\n",
      "Ore Pulp pH                     float64\n",
      "Ore Pulp Density                float64\n",
      "Flotation Column 01 Air Flow    float64\n",
      "Flotation Column 02 Air Flow    float64\n",
      "Flotation Column 03 Air Flow    float64\n",
      "Flotation Column 04 Air Flow    float64\n",
      "Flotation Column 05 Air Flow    float64\n",
      "Flotation Column 06 Air Flow    float64\n",
      "Flotation Column 07 Air Flow    float64\n",
      "Flotation Column 01 Level       float64\n",
      "Flotation Column 02 Level       float64\n",
      "Flotation Column 03 Level       float64\n",
      "Flotation Column 04 Level       float64\n",
      "Flotation Column 05 Level       float64\n",
      "Flotation Column 06 Level       float64\n",
      "Flotation Column 07 Level       float64\n",
      "% Iron Concentrate              float64\n",
      "% Silica Concentrate            float64\n",
      "dtype: object\n"
     ]
    }
   ],
   "source": [
    "# Checking data size and types\n",
    "print(data_tot.dtypes)\n"
   ]
  },
  {
   "cell_type": "code",
   "execution_count": 69,
   "metadata": {},
   "outputs": [
    {
     "data": {
      "text/html": [
       "<div>\n",
       "<style scoped>\n",
       "    .dataframe tbody tr th:only-of-type {\n",
       "        vertical-align: middle;\n",
       "    }\n",
       "\n",
       "    .dataframe tbody tr th {\n",
       "        vertical-align: top;\n",
       "    }\n",
       "\n",
       "    .dataframe thead th {\n",
       "        text-align: right;\n",
       "    }\n",
       "</style>\n",
       "<table border=\"1\" class=\"dataframe\">\n",
       "  <thead>\n",
       "    <tr style=\"text-align: right;\">\n",
       "      <th></th>\n",
       "      <th>date</th>\n",
       "      <th>% Iron Feed</th>\n",
       "      <th>% Silica Feed</th>\n",
       "      <th>Starch Flow</th>\n",
       "      <th>Amina Flow</th>\n",
       "      <th>Ore Pulp Flow</th>\n",
       "      <th>Ore Pulp pH</th>\n",
       "      <th>Ore Pulp Density</th>\n",
       "      <th>Flotation Column 01 Air Flow</th>\n",
       "      <th>Flotation Column 02 Air Flow</th>\n",
       "      <th>...</th>\n",
       "      <th>Flotation Column 07 Air Flow</th>\n",
       "      <th>Flotation Column 01 Level</th>\n",
       "      <th>Flotation Column 02 Level</th>\n",
       "      <th>Flotation Column 03 Level</th>\n",
       "      <th>Flotation Column 04 Level</th>\n",
       "      <th>Flotation Column 05 Level</th>\n",
       "      <th>Flotation Column 06 Level</th>\n",
       "      <th>Flotation Column 07 Level</th>\n",
       "      <th>% Iron Concentrate</th>\n",
       "      <th>% Silica Concentrate</th>\n",
       "    </tr>\n",
       "  </thead>\n",
       "  <tbody>\n",
       "    <tr>\n",
       "      <th>0</th>\n",
       "      <td>2017-03-10 01:00:00</td>\n",
       "      <td>55.2</td>\n",
       "      <td>16.98</td>\n",
       "      <td>3019.53</td>\n",
       "      <td>557.434</td>\n",
       "      <td>395.713</td>\n",
       "      <td>10.0664</td>\n",
       "      <td>1.74</td>\n",
       "      <td>249.214</td>\n",
       "      <td>253.235</td>\n",
       "      <td>...</td>\n",
       "      <td>250.884</td>\n",
       "      <td>457.396</td>\n",
       "      <td>432.962</td>\n",
       "      <td>424.954</td>\n",
       "      <td>443.558</td>\n",
       "      <td>502.255</td>\n",
       "      <td>446.370</td>\n",
       "      <td>523.344</td>\n",
       "      <td>66.91</td>\n",
       "      <td>1.31</td>\n",
       "    </tr>\n",
       "    <tr>\n",
       "      <th>1</th>\n",
       "      <td>2017-03-10 01:00:00</td>\n",
       "      <td>55.2</td>\n",
       "      <td>16.98</td>\n",
       "      <td>3024.41</td>\n",
       "      <td>563.965</td>\n",
       "      <td>397.383</td>\n",
       "      <td>10.0672</td>\n",
       "      <td>1.74</td>\n",
       "      <td>249.719</td>\n",
       "      <td>250.532</td>\n",
       "      <td>...</td>\n",
       "      <td>248.994</td>\n",
       "      <td>451.891</td>\n",
       "      <td>429.560</td>\n",
       "      <td>432.939</td>\n",
       "      <td>448.086</td>\n",
       "      <td>496.363</td>\n",
       "      <td>445.922</td>\n",
       "      <td>498.075</td>\n",
       "      <td>66.91</td>\n",
       "      <td>1.31</td>\n",
       "    </tr>\n",
       "    <tr>\n",
       "      <th>2</th>\n",
       "      <td>2017-03-10 01:00:00</td>\n",
       "      <td>55.2</td>\n",
       "      <td>16.98</td>\n",
       "      <td>3043.46</td>\n",
       "      <td>568.054</td>\n",
       "      <td>399.668</td>\n",
       "      <td>10.0680</td>\n",
       "      <td>1.74</td>\n",
       "      <td>249.741</td>\n",
       "      <td>247.874</td>\n",
       "      <td>...</td>\n",
       "      <td>248.071</td>\n",
       "      <td>451.240</td>\n",
       "      <td>468.927</td>\n",
       "      <td>434.610</td>\n",
       "      <td>449.688</td>\n",
       "      <td>484.411</td>\n",
       "      <td>447.826</td>\n",
       "      <td>458.567</td>\n",
       "      <td>66.91</td>\n",
       "      <td>1.31</td>\n",
       "    </tr>\n",
       "  </tbody>\n",
       "</table>\n",
       "<p>3 rows × 24 columns</p>\n",
       "</div>"
      ],
      "text/plain": [
       "                  date  % Iron Feed  % Silica Feed  Starch Flow  Amina Flow  \\\n",
       "0  2017-03-10 01:00:00         55.2          16.98      3019.53     557.434   \n",
       "1  2017-03-10 01:00:00         55.2          16.98      3024.41     563.965   \n",
       "2  2017-03-10 01:00:00         55.2          16.98      3043.46     568.054   \n",
       "\n",
       "   Ore Pulp Flow  Ore Pulp pH  Ore Pulp Density  Flotation Column 01 Air Flow  \\\n",
       "0        395.713      10.0664              1.74                       249.214   \n",
       "1        397.383      10.0672              1.74                       249.719   \n",
       "2        399.668      10.0680              1.74                       249.741   \n",
       "\n",
       "   Flotation Column 02 Air Flow  ...  Flotation Column 07 Air Flow  \\\n",
       "0                       253.235  ...                       250.884   \n",
       "1                       250.532  ...                       248.994   \n",
       "2                       247.874  ...                       248.071   \n",
       "\n",
       "   Flotation Column 01 Level  Flotation Column 02 Level  \\\n",
       "0                    457.396                    432.962   \n",
       "1                    451.891                    429.560   \n",
       "2                    451.240                    468.927   \n",
       "\n",
       "   Flotation Column 03 Level  Flotation Column 04 Level  \\\n",
       "0                    424.954                    443.558   \n",
       "1                    432.939                    448.086   \n",
       "2                    434.610                    449.688   \n",
       "\n",
       "   Flotation Column 05 Level  Flotation Column 06 Level  \\\n",
       "0                    502.255                    446.370   \n",
       "1                    496.363                    445.922   \n",
       "2                    484.411                    447.826   \n",
       "\n",
       "   Flotation Column 07 Level  % Iron Concentrate  % Silica Concentrate  \n",
       "0                    523.344               66.91                  1.31  \n",
       "1                    498.075               66.91                  1.31  \n",
       "2                    458.567               66.91                  1.31  \n",
       "\n",
       "[3 rows x 24 columns]"
      ]
     },
     "execution_count": 69,
     "metadata": {},
     "output_type": "execute_result"
    }
   ],
   "source": [
    "data_tot.head(3)"
   ]
  },
  {
   "cell_type": "code",
   "execution_count": 70,
   "metadata": {},
   "outputs": [
    {
     "data": {
      "text/plain": [
       "2.080000    17100\n",
       "1.190000    10080\n",
       "3.110000     8460\n",
       "1.340000     6840\n",
       "1.680000     6300\n",
       "            ...  \n",
       "2.886676        1\n",
       "4.925039        1\n",
       "3.462767        1\n",
       "5.468392        1\n",
       "4.810884        1\n",
       "Name: % Silica Concentrate, Length: 55569, dtype: int64"
      ]
     },
     "execution_count": 70,
     "metadata": {},
     "output_type": "execute_result"
    }
   ],
   "source": [
    "y = data_tot.loc[:, '% Silica Concentrate'] \n",
    "y.value_counts()\n"
   ]
  },
  {
   "cell_type": "code",
   "execution_count": 71,
   "metadata": {},
   "outputs": [],
   "source": [
    "## Creating DataFrame for regression \n",
    "\n",
    "data_reg=data_tot.drop(['% Iron Feed','date','% Silica Concentrate'], axis=1)\n"
   ]
  },
  {
   "cell_type": "code",
   "execution_count": 72,
   "metadata": {},
   "outputs": [],
   "source": [
    "#Data Partition\n",
    "\n",
    "X_train, X_test, y_train, y_test = train_test_split(data_reg, y, train_size = 0.75, random_state = 123)"
   ]
  },
  {
   "cell_type": "code",
   "execution_count": 73,
   "metadata": {},
   "outputs": [
    {
     "name": "stdout",
     "output_type": "stream",
     "text": [
      "['Flotation Column 03 Air Flow']\n"
     ]
    }
   ],
   "source": [
    "# Removing highly correlated data, in case is needed\n",
    "\n",
    "# create correlation  matrix\n",
    "corr_matrix = data_reg.corr().abs()\n",
    "\n",
    "# select upper traingle of correlation matrix\n",
    "upper = corr_matrix.where(np.triu(np.ones(corr_matrix.shape), k=1).astype(np.bool))\n",
    "\n",
    "\n",
    "# Find index of columns with correlation greater than 0.95\n",
    "to_drop = [column for column in upper.columns if any(upper[column] > 0.95)]\n",
    "\n",
    "# drop the columns\n",
    "#data_reg.drop(data_reg.columns[to_drop], axis=1)\n",
    "data_reg=data_reg.drop(['Flotation Column 03 Air Flow'], axis=1)\n",
    "print(to_drop)"
   ]
  },
  {
   "cell_type": "code",
   "execution_count": 74,
   "metadata": {},
   "outputs": [
    {
     "name": "stdout",
     "output_type": "stream",
     "text": [
      "<bound method DataFrame.info of         % Silica Feed  Starch Flow  Amina Flow  Ore Pulp Flow  Ore Pulp pH  \\\n",
      "0               16.98      3019.53     557.434        395.713     10.06640   \n",
      "1               16.98      3024.41     563.965        397.383     10.06720   \n",
      "2               16.98      3043.46     568.054        399.668     10.06800   \n",
      "3               16.98      3047.36     568.665        397.939     10.06890   \n",
      "4               16.98      3033.69     558.167        400.254     10.06970   \n",
      "...               ...          ...         ...            ...          ...   \n",
      "737448          23.20      2710.94     441.052        386.570      9.62129   \n",
      "737449          23.20      2692.01     473.436        384.939      9.62063   \n",
      "737450          23.20      2692.20     500.488        383.496      9.61874   \n",
      "737451          23.20      1164.12     491.548        384.976      9.61686   \n",
      "737452          23.20      1164.12     468.019        384.801      9.61497   \n",
      "\n",
      "        Ore Pulp Density  Flotation Column 01 Air Flow  \\\n",
      "0                1.74000                       249.214   \n",
      "1                1.74000                       249.719   \n",
      "2                1.74000                       249.741   \n",
      "3                1.74000                       249.917   \n",
      "4                1.74000                       250.203   \n",
      "...                  ...                           ...   \n",
      "737448           1.65365                       302.344   \n",
      "737449           1.65352                       303.013   \n",
      "737450           1.65338                       303.662   \n",
      "737451           1.65324                       302.550   \n",
      "737452           1.65310                       300.355   \n",
      "\n",
      "        Flotation Column 02 Air Flow  Flotation Column 04 Air Flow  \\\n",
      "0                            253.235                       295.096   \n",
      "1                            250.532                       295.096   \n",
      "2                            247.874                       295.096   \n",
      "3                            254.487                       295.096   \n",
      "4                            252.136                       295.096   \n",
      "...                              ...                           ...   \n",
      "737448                       298.786                       299.920   \n",
      "737449                       301.879                       299.710   \n",
      "737450                       307.397                       299.927   \n",
      "737451                       301.959                       299.372   \n",
      "737452                       292.865                       298.717   \n",
      "\n",
      "        Flotation Column 05 Air Flow  Flotation Column 06 Air Flow  \\\n",
      "0                            306.400                       250.225   \n",
      "1                            306.400                       250.137   \n",
      "2                            306.400                       251.345   \n",
      "3                            306.400                       250.422   \n",
      "4                            306.400                       249.983   \n",
      "...                              ...                           ...   \n",
      "737448                       299.623                       346.794   \n",
      "737449                       300.465                       330.023   \n",
      "737450                       299.707                       329.590   \n",
      "737451                       298.819                       351.453   \n",
      "737452                       297.395                       362.464   \n",
      "\n",
      "        Flotation Column 07 Air Flow  Flotation Column 01 Level  \\\n",
      "0                            250.884                    457.396   \n",
      "1                            248.994                    451.891   \n",
      "2                            248.071                    451.240   \n",
      "3                            251.147                    452.441   \n",
      "4                            248.928                    452.441   \n",
      "...                              ...                        ...   \n",
      "737448                       313.695                    392.160   \n",
      "737449                       236.700                    401.505   \n",
      "737450                       225.879                    408.899   \n",
      "737451                       308.115                    405.107   \n",
      "737452                       308.115                    413.754   \n",
      "\n",
      "        Flotation Column 02 Level  Flotation Column 03 Level  \\\n",
      "0                         432.962                    424.954   \n",
      "1                         429.560                    432.939   \n",
      "2                         468.927                    434.610   \n",
      "3                         458.165                    442.865   \n",
      "4                         452.900                    450.523   \n",
      "...                           ...                        ...   \n",
      "737448                    430.702                    872.008   \n",
      "737449                    404.616                    864.409   \n",
      "737450                    399.316                    867.598   \n",
      "737451                    466.832                    876.591   \n",
      "737452                    514.143                    881.323   \n",
      "\n",
      "        Flotation Column 04 Level  Flotation Column 05 Level  \\\n",
      "0                         443.558                    502.255   \n",
      "1                         448.086                    496.363   \n",
      "2                         449.688                    484.411   \n",
      "3                         446.210                    471.411   \n",
      "4                         453.670                    462.598   \n",
      "...                           ...                        ...   \n",
      "737448                    418.725                    497.548   \n",
      "737449                    418.377                    506.398   \n",
      "737450                    419.531                    503.414   \n",
      "737451                    407.299                    502.301   \n",
      "737452                    378.969                    500.100   \n",
      "\n",
      "        Flotation Column 06 Level  Flotation Column 07 Level  \\\n",
      "0                         446.370                    523.344   \n",
      "1                         445.922                    498.075   \n",
      "2                         447.826                    458.567   \n",
      "3                         437.690                    427.669   \n",
      "4                         443.682                    425.679   \n",
      "...                           ...                        ...   \n",
      "737448                    446.357                    416.892   \n",
      "737449                    372.995                    426.337   \n",
      "737450                    336.035                    433.130   \n",
      "737451                    340.844                    433.966   \n",
      "737452                    374.354                    441.182   \n",
      "\n",
      "        % Iron Concentrate  \n",
      "0                    66.91  \n",
      "1                    66.91  \n",
      "2                    66.91  \n",
      "3                    66.91  \n",
      "4                    66.91  \n",
      "...                    ...  \n",
      "737448               64.27  \n",
      "737449               64.27  \n",
      "737450               64.27  \n",
      "737451               64.27  \n",
      "737452               64.27  \n",
      "\n",
      "[737453 rows x 20 columns]>\n"
     ]
    }
   ],
   "source": [
    "print(data_reg.info)"
   ]
  },
  {
   "cell_type": "code",
   "execution_count": 75,
   "metadata": {},
   "outputs": [],
   "source": [
    "# Creating basic regression model\n",
    "\n",
    "# Create linear regression object\n",
    "regr = linear_model.LinearRegression()\n",
    "\n",
    "# Train the model using the training sets\n",
    "regr.fit(X_train, y_train)\n",
    "\n",
    "# Make predictions using the testing set\n",
    "y_pred = regr.predict(X_test)"
   ]
  },
  {
   "cell_type": "code",
   "execution_count": 76,
   "metadata": {},
   "outputs": [
    {
     "name": "stdout",
     "output_type": "stream",
     "text": [
      "Coefficients: \n",
      " [ 1.01574433e-02 -1.60834614e-05  6.54635315e-04  4.55694880e-03\n",
      "  4.96478455e-02  1.34508638e-01 -4.64233677e-03 -1.55842337e-03\n",
      " -1.33750914e-03  2.32477984e-03  1.43404605e-02 -1.30578976e-04\n",
      "  1.37421996e-03 -2.75924642e-04 -1.68996952e-04 -7.78502573e-05\n",
      " -1.41166977e-04 -2.01471685e-04 -1.96899288e-04  1.75980382e-04\n",
      " -7.85699132e-01]\n"
     ]
    }
   ],
   "source": [
    "#Model coefficients\n",
    "print(\"Coefficients: \\n\", regr.coef_)"
   ]
  },
  {
   "cell_type": "code",
   "execution_count": 77,
   "metadata": {},
   "outputs": [
    {
     "name": "stdout",
     "output_type": "stream",
     "text": [
      "Mean squared error: 0.41\n",
      "Coefficient of determination: 0.68\n"
     ]
    }
   ],
   "source": [
    "#Quality measurement\n",
    "# mean squared error\n",
    "print(\"Mean squared error: %.2f\" % mean_squared_error(y_test, y_pred))\n",
    "#  coefficient of determination: 1 is perfect prediction\n",
    "print(\"Coefficient of determination: %.2f\" % r2_score(y_test, y_pred))"
   ]
  },
  {
   "cell_type": "markdown",
   "metadata": {},
   "source": [
    "El modelo construido es una regresión básica, pero muestra que es posible predecir el porcentaje deconcetrado de  Silice. Con respecto a las preguntas:\n",
    "\n",
    "1) Sí se puede predecir, sin embargo se debe considerar que esta es solo una versión básica que requiere varias horas de trabajo de preprocesamiento, optimización y análisis para llegar a una versión del modelo que valga la pena para ponerse en producción\n",
    "\n",
    "2) Si se puede determinar la tiempo con el que se puede predecir, haciendo una autoregresión o moviendo n periodos hacia adeplante la variable objetivo. Dicho análisis requiere varias horas de preprocesamiento que se escapan al alncance de este análisis\n",
    "\n",
    "3) El coeficiente de correlación entre % Iron Concentrate y % Silica Concentrate es de 0.77. Es una correlación alta y se debe considerar alguna transformación de la variable  "
   ]
  }
 ],
 "metadata": {
  "kernelspec": {
   "display_name": "Python 3",
   "language": "python",
   "name": "python3"
  },
  "language_info": {
   "codemirror_mode": {
    "name": "ipython",
    "version": 3
   },
   "file_extension": ".py",
   "mimetype": "text/x-python",
   "name": "python",
   "nbconvert_exporter": "python",
   "pygments_lexer": "ipython3",
   "version": "3.7.6"
  }
 },
 "nbformat": 4,
 "nbformat_minor": 4
}
